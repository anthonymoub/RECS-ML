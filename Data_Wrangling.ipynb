{
 "cells": [
  {
   "cell_type": "code",
   "execution_count": 45,
   "metadata": {},
   "outputs": [
    {
     "name": "stderr",
     "output_type": "stream",
     "text": [
      "/var/folders/r_/fklxc5m54kl125_d3kkyjzp40000gn/T/ipykernel_91985/1940732283.py:18: FutureWarning: Passing 'suffixes' which cause duplicate columns {'NWEIGHT_x'} in the result is deprecated and will raise a MergeError in a future version.\n",
      "  merged_df = pd.merge(merged_df, df_to_join, on=\"DOEID\", how=\"inner\")\n",
      "/var/folders/r_/fklxc5m54kl125_d3kkyjzp40000gn/T/ipykernel_91985/1940732283.py:18: FutureWarning: Passing 'suffixes' which cause duplicate columns {'NWEIGHT_x'} in the result is deprecated and will raise a MergeError in a future version.\n",
      "  merged_df = pd.merge(merged_df, df_to_join, on=\"DOEID\", how=\"inner\")\n",
      "/var/folders/r_/fklxc5m54kl125_d3kkyjzp40000gn/T/ipykernel_91985/1940732283.py:18: FutureWarning: Passing 'suffixes' which cause duplicate columns {'NWEIGHT_x'} in the result is deprecated and will raise a MergeError in a future version.\n",
      "  merged_df = pd.merge(merged_df, df_to_join, on=\"DOEID\", how=\"inner\")\n",
      "/var/folders/r_/fklxc5m54kl125_d3kkyjzp40000gn/T/ipykernel_91985/1940732283.py:18: FutureWarning: Passing 'suffixes' which cause duplicate columns {'NWEIGHT_x'} in the result is deprecated and will raise a MergeError in a future version.\n",
      "  merged_df = pd.merge(merged_df, df_to_join, on=\"DOEID\", how=\"inner\")\n",
      "/var/folders/r_/fklxc5m54kl125_d3kkyjzp40000gn/T/ipykernel_91985/1940732283.py:18: FutureWarning: Passing 'suffixes' which cause duplicate columns {'NWEIGHT_x'} in the result is deprecated and will raise a MergeError in a future version.\n",
      "  merged_df = pd.merge(merged_df, df_to_join, on=\"DOEID\", how=\"inner\")\n",
      "/var/folders/r_/fklxc5m54kl125_d3kkyjzp40000gn/T/ipykernel_91985/1940732283.py:18: FutureWarning: Passing 'suffixes' which cause duplicate columns {'NWEIGHT_x'} in the result is deprecated and will raise a MergeError in a future version.\n",
      "  merged_df = pd.merge(merged_df, df_to_join, on=\"DOEID\", how=\"inner\")\n"
     ]
    }
   ],
   "source": [
    "import os\n",
    "import pandas as pd \n",
    "\n",
    "# Define the path to the \"Data\" directory\n",
    "data_dir = \"Data/\"\n",
    "\n",
    "# Get a list of all CSV files in the \"Data\" directory\n",
    "csv_files = [file for file in os.listdir(data_dir) if file.endswith('.csv')]\n",
    "\n",
    "# Read the first CSV file to initialize the DataFrame\n",
    "first_csv = os.path.join(data_dir, csv_files[0])\n",
    "merged_df = pd.read_csv(first_csv)\n",
    "\n",
    "# Perform inner join with other CSV files based on the \"DOEID\" column\n",
    "for csv_file in csv_files[1:]:\n",
    "    file_path = os.path.join(data_dir, csv_file)\n",
    "    df_to_join = pd.read_csv(file_path)\n",
    "    merged_df = pd.merge(merged_df, df_to_join, on=\"DOEID\", how=\"inner\")\n",
    "\n",
    "# Save the merged DataFrame to a new CSV file\n",
    "output_file = \"Data/marged_recs.csv\"\n",
    "merged_df.to_csv(output_file, index=False)\n",
    "\n",
    "\n"
   ]
  },
  {
   "cell_type": "code",
   "execution_count": 13,
   "metadata": {},
   "outputs": [],
   "source": [
    "import pandas as pd \n",
    "\n",
    "df = pd.read_csv(\"Data/marged_recs.csv\")\n",
    "\n",
    "df = df[[ 'state_postal' , 'FUELHEAT',  'NHSLDMEM', 'DRYRUSE', 'ELWATER',  \n",
    "           'CDD30YR_PUB', 'DRYRFUEL', 'WASHLOAD', 'OUTGRILLFUEL' , 'KWH']]\n",
    "\n",
    "df['DRYRFUEL'] = df['DRYRFUEL'].astype('str')\n",
    "df['FUELHEAT'] = df['FUELHEAT'].astype('str')\n",
    "df['OUTGRILLFUEL'] = df['OUTGRILLFUEL'].astype('str')\n",
    "\n",
    "# Define custom mappings for DRYRFUEL and FUELHEAT\n",
    "dryrfuel_mapping = {\"-2\": \"NA\", \"1\": \"Natural_Gas\", \"2\": \"Propane\", \"5\": \"Electricity\"}\n",
    "fuelheat_mapping = {\"1\": \"Natural_Gas\", \"2\": \"Propane\", \"3\": \"Fuel_Oil\", \"5\": \"Electricity\", \"7\": \"Wood\", \"99\": \"Other\"}\n",
    "outgrill_mapping = {\"-2\": \"NA\", \"1\": \"Natural_Gas\", \"2\": \"Propane\", \"23\": \"Charcoal\"}\n",
    "\n",
    "# Apply custom mappings\n",
    "df['DRYRFUEL'] = df['DRYRFUEL'].map(dryrfuel_mapping)\n",
    "df['FUELHEAT'] = df['FUELHEAT'].map(fuelheat_mapping)\n",
    "df['OUTGRILLFUEL'] = df['OUTGRILLFUEL'].map(fuelheat_mapping)\n",
    "\n",
    "# Perform one-hot encoding\n",
    "encoded_data = pd.get_dummies(df, columns=['DRYRFUEL', 'FUELHEAT' , 'OUTGRILLFUEL'])\n",
    "\n",
    "output_file = \"Data/fa1.csv\"\n",
    "encoded_data.to_csv(output_file, index=False)\n"
   ]
  },
  {
   "cell_type": "markdown",
   "metadata": {},
   "source": [
    "Repeat the above but only for CA "
   ]
  },
  {
   "cell_type": "code",
   "execution_count": null,
   "metadata": {},
   "outputs": [],
   "source": [
    "import pandas as pd \n",
    "\n",
    "df = pd.read_csv(\"Data/marged_recs.csv\")\n",
    "\n",
    "df = df[df['state_postal'] == 'CA']\n",
    "\n",
    "df = df[[ 'FUELHEAT',  'NHSLDMEM', 'DRYRUSE', 'ELWATER',  \n",
    "           'CDD30YR_PUB', 'DRYRFUEL', 'WASHLOAD', 'OUTGRILLFUEL' , 'KWH']]\n",
    "\n",
    "df['DRYRFUEL'] = df['DRYRFUEL'].astype('str')\n",
    "df['FUELHEAT'] = df['FUELHEAT'].astype('str')\n",
    "df['OUTGRILLFUEL'] = df['OUTGRILLFUEL'].astype('str')\n",
    "\n",
    "# Define custom mappings for DRYRFUEL and FUELHEAT\n",
    "dryrfuel_mapping = {\"-2\": \"NA\", \"1\": \"Natural_Gas\", \"2\": \"Propane\", \"5\": \"Electricity\"}\n",
    "fuelheat_mapping = {\"1\": \"Natural_Gas\", \"2\": \"Propane\", \"3\": \"Fuel_Oil\", \"5\": \"Electricity\", \"7\": \"Wood\", \"99\": \"Other\"}\n",
    "outgrill_mapping = {\"-2\": \"NA\", \"1\": \"Natural_Gas\", \"2\": \"Propane\", \"23\": \"Charcoal\"}\n",
    "\n",
    "# Apply custom mappings\n",
    "df['DRYRFUEL'] = df['DRYRFUEL'].map(dryrfuel_mapping)\n",
    "df['FUELHEAT'] = df['FUELHEAT'].map(fuelheat_mapping)\n",
    "df['OUTGRILLFUEL'] = df['OUTGRILLFUEL'].map(fuelheat_mapping)\n",
    "\n",
    "# Perform one-hot encoding\n",
    "encoded_data = pd.get_dummies(df, columns=['DRYRFUEL', 'FUELHEAT' , 'OUTGRILLFUEL'])\n",
    "\n",
    "output_file = \"Data/fa2.csv\"\n",
    "encoded_data.to_csv(output_file, index=False)\n"
   ]
  },
  {
   "cell_type": "markdown",
   "metadata": {},
   "source": [
    "Fully encoded version of dataset"
   ]
  },
  {
   "cell_type": "code",
   "execution_count": 1,
   "metadata": {},
   "outputs": [],
   "source": [
    "import pandas as pd \n",
    "\n",
    "df = pd.read_csv(\"Data/marged_recs.csv\")\n",
    "\n",
    "df = df[[ 'FUELHEAT',  'DRYRFUEL', 'OUTGRILLFUEL', 'KWH']]\n",
    "\n",
    "\n",
    "df['DRYRFUEL'] = df['DRYRFUEL'].astype('str')\n",
    "df['FUELHEAT'] = df['FUELHEAT'].astype('str')\n",
    "df['OUTGRILLFUEL'] = df['OUTGRILLFUEL'].astype('str')\n",
    "\n",
    "# Define custom mappings for DRYRFUEL and FUELHEAT\n",
    "dryrfuel_mapping = {\"-2\": \"NA\", \"1\": \"Natural_Gas\", \"2\": \"Propane\", \"5\": \"Electricity\"}\n",
    "fuelheat_mapping = {\"1\": \"Natural_Gas\", \"2\": \"Propane\", \"3\": \"Fuel_Oil\", \"5\": \"Electricity\", \"7\": \"Wood\", \"99\": \"Other\"}\n",
    "outgrill_mapping = {\"-2\": \"NA\", \"1\": \"Natural_Gas\", \"2\": \"Propane\", \"23\": \"Charcoal\"}\n",
    "\n",
    "# Apply custom mappings\n",
    "df['DRYRFUEL'] = df['DRYRFUEL'].map(dryrfuel_mapping)\n",
    "df['FUELHEAT'] = df['FUELHEAT'].map(fuelheat_mapping)\n",
    "df['OUTGRILLFUEL'] = df['OUTGRILLFUEL'].map(fuelheat_mapping)\n",
    "\n",
    "\n",
    "\n"
   ]
  },
  {
   "cell_type": "code",
   "execution_count": null,
   "metadata": {},
   "outputs": [],
   "source": []
  }
 ],
 "metadata": {
  "kernelspec": {
   "display_name": "anly503",
   "language": "python",
   "name": "python3"
  },
  "language_info": {
   "codemirror_mode": {
    "name": "ipython",
    "version": 3
   },
   "file_extension": ".py",
   "mimetype": "text/x-python",
   "name": "python",
   "nbconvert_exporter": "python",
   "pygments_lexer": "ipython3",
   "version": "3.10.8"
  },
  "orig_nbformat": 4
 },
 "nbformat": 4,
 "nbformat_minor": 2
}
